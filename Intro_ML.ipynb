{
 "cells": [
  {
   "cell_type": "markdown",
   "id": "5193264f",
   "metadata": {},
   "source": [
    "#Ans1.)\n",
    "\n",
    "Artificial Intelligence (AI): Artificial Intelligence refers to the simulation of human intelligence in machines that are programmed to think and mimic human actions. It encompasses various subfields such as machine learning, deep learning, natural language processing, computer vision, and more. Example: Siri, Google Assistant, autonomous vehicles.\n",
    "\n",
    "Machine Learning (ML): Machine Learning is a subset of AI that focuses on developing algorithms and techniques that enable computers to learn from and make predictions or decisions based on data without being explicitly programmed. Example: Spam email detection, recommendation systems, image recognition.\n",
    "\n",
    "Deep Learning (DL): Deep Learning is a subset of machine learning that uses artificial neural networks with multiple layers (deep neural networks) to model and learn complex patterns in large datasets. DL algorithms are particularly effective for tasks such as image and speech recognition, natural language processing, and autonomous driving. Example: Facial recognition systems, language translation services, self-driving cars."
   ]
  },
  {
   "cell_type": "code",
   "execution_count": null,
   "id": "8463fbb4",
   "metadata": {},
   "outputs": [],
   "source": []
  },
  {
   "cell_type": "markdown",
   "id": "8160fd02",
   "metadata": {},
   "source": [
    "#Ans2.)\n",
    "\n",
    "Supervised Learning: Supervised learning is a type of machine learning where the model is trained on a labeled dataset, which means each input data point is paired with the correct output. The goal is to learn a mapping from inputs to outputs so that the model can make predictions on new, unseen data. Examples of supervised learning algorithms include:\n",
    "\n",
    "Linear Regression\n",
    "Logistic Regression\n",
    "Support Vector Machines (SVM)\n",
    "Decision Trees\n",
    "Random Forests\n",
    "Neural Networks"
   ]
  },
  {
   "cell_type": "code",
   "execution_count": null,
   "id": "4f70ba3a",
   "metadata": {},
   "outputs": [],
   "source": []
  },
  {
   "cell_type": "markdown",
   "id": "1978b98c",
   "metadata": {},
   "source": [
    "#Ans3.)\n",
    "\n",
    "Unsupervised Learning: Unsupervised learning is a type of machine learning where the model is trained on an unlabeled dataset, meaning the algorithm learns to identify patterns and structure in the data without explicit guidance. Examples of unsupervised learning algorithms include:\n",
    "\n",
    "K-means Clustering\n",
    "Hierarchical Clustering\n",
    "Principal Component Analysis (PCA)\n",
    "t-Distributed Stochastic Neighbor Embedding (t-SNE)\n",
    "Generative Adversarial Networks (GANs)\n",
    "Self-Organizing Maps (SOMs)"
   ]
  },
  {
   "cell_type": "code",
   "execution_count": null,
   "id": "9bf46f8d",
   "metadata": {},
   "outputs": [],
   "source": []
  },
  {
   "cell_type": "markdown",
   "id": "6b0960e7",
   "metadata": {},
   "source": [
    "#Ans4.)\n",
    "\n",
    "Artificial Intelligence (AI): AI is the broader concept of machines being able to carry out tasks in a way that we would consider \"smart\" or \"intelligent.\" It encompasses various subfields including machine learning, deep learning, natural language processing, computer vision, robotics, and more.\n",
    "\n",
    "Machine Learning (ML): ML is a subset of AI that focuses on the development of algorithms and statistical models that enable computers to learn from and make predictions or decisions based on data without being explicitly programmed.\n",
    "\n",
    "Deep Learning (DL): DL is a subset of ML that uses artificial neural networks with multiple layers (deep neural networks) to model and learn complex patterns in large datasets. DL algorithms are particularly effective for tasks such as image and speech recognition, natural language processing, and autonomous driving.\n",
    "\n",
    "Data Science (DS): DS is an interdisciplinary field that combines domain knowledge, programming skills, and statistical methods to extract insights and knowledge from structured and unstructured data. It encompasses data analysis, machine learning, data visualization, and more.\n"
   ]
  },
  {
   "cell_type": "code",
   "execution_count": null,
   "id": "dee5acd2",
   "metadata": {},
   "outputs": [],
   "source": []
  },
  {
   "cell_type": "markdown",
   "id": "0bee28d3",
   "metadata": {},
   "source": [
    "#Ans5.)\n",
    "\n",
    "The main differences between supervised, unsupervised, and semi-supervised learning are:\n",
    "\n",
    "Supervised Learning:\n",
    "\n",
    "Uses labeled data for training.\n",
    "Models learn to map inputs to outputs.\n",
    "Examples: Classification, regression.\n",
    "Unsupervised Learning:\n",
    "\n",
    "Uses unlabeled data for training.\n",
    "Models learn patterns and structures in data.\n",
    "Examples: Clustering, dimensionality reduction.\n",
    "Semi-supervised Learning:\n",
    "\n",
    "Uses a combination of labeled and unlabeled data for training.\n",
    "Models learn from both labeled and unlabeled data to improve performance.\n",
    "Examples: Generative models, self-training algorithms."
   ]
  },
  {
   "cell_type": "code",
   "execution_count": null,
   "id": "87622bba",
   "metadata": {},
   "outputs": [],
   "source": []
  },
  {
   "cell_type": "markdown",
   "id": "95f70d76",
   "metadata": {},
   "source": [
    "#Ans6.)\n",
    "\n",
    "In machine learning, the dataset is typically split into three subsets:\n",
    "\n",
    "Training Set: The training set is used to train the model. It contains labeled examples on which the model learns the patterns and relationships between input features and target outputs.\n",
    "\n",
    "Test Set: The test set is used to evaluate the performance of the trained model on unseen data. It contains labeled examples that were not used during training and is used to estimate the model's performance on new data.\n",
    "\n",
    "Validation Set: The validation set is an optional subset used to tune hyperparameters and evaluate different models during the model selection process. It helps prevent overfitting by providing an independent dataset for model evaluation.\n",
    "\n",
    "The importance of each split is as follows:\n",
    "\n",
    "Training Set: Crucial for training the model and learning patterns in the data.\n",
    "Test Set: Important for assessing the generalization performance of the trained model on unseen data.\n",
    "Validation Set: Helps optimize the model's hyperparameters and select the best-performing model."
   ]
  },
  {
   "cell_type": "code",
   "execution_count": null,
   "id": "ce7be273",
   "metadata": {},
   "outputs": [],
   "source": []
  },
  {
   "cell_type": "markdown",
   "id": "f22d9c51",
   "metadata": {},
   "source": [
    "#Ans7,)\n",
    "\n",
    "Unsupervised learning can be used in anomaly detection by training models on normal data and identifying deviations or anomalies from the learned patterns. Some common approaches include:\n",
    "\n",
    "Density-Based Anomaly Detection: Models such as Gaussian Mixture Models (GMMs) or Kernel Density Estimation (KDE) can be used to estimate the probability density function of normal data. Anomalies are then identified as data points with low probability densities.\n",
    "\n",
    "Clustering-Based Anomaly Detection: Clustering algorithms like K-means or DBSCAN can be used to group similar data points together. Anomalies are detected as data points that do not belong to any cluster or belong to small, sparse clusters.\n",
    "\n",
    "Distance-Based Anomaly Detection: Distance metrics such as Euclidean distance or Mahalanobis distance can be used to measure the similarity between data points. Anomalies are identified as data points that are significantly distant from the majority of the data."
   ]
  },
  {
   "cell_type": "code",
   "execution_count": null,
   "id": "0d7a9b62",
   "metadata": {},
   "outputs": [],
   "source": []
  },
  {
   "cell_type": "markdown",
   "id": "94461199",
   "metadata": {},
   "source": [
    "#Ans8.)\n",
    "\n",
    "Commonly used supervised learning algorithms:\n",
    "\n",
    "Linear Regression,\n",
    "Logistic Regression,\n",
    "Decision Trees,\n",
    "Random Forests,\n",
    "Support Vector Machines (SVM),\n",
    "k-Nearest Neighbors (k-NN),\n",
    "Neural Networks,\n",
    "\n",
    "\n",
    "Commonly used unsupervised learning algorithms:\n",
    "\n",
    "K-means Clustering,\n",
    "\n",
    "Hierarchical Clustering,\n",
    "\n",
    "Principal Component Analysis\n",
    "\n",
    "\n",
    "\n",
    "\n",
    "\n",
    "\n"
   ]
  },
  {
   "cell_type": "code",
   "execution_count": null,
   "id": "8cc8f439",
   "metadata": {},
   "outputs": [],
   "source": []
  }
 ],
 "metadata": {
  "kernelspec": {
   "display_name": "Python 3 (ipykernel)",
   "language": "python",
   "name": "python3"
  },
  "language_info": {
   "codemirror_mode": {
    "name": "ipython",
    "version": 3
   },
   "file_extension": ".py",
   "mimetype": "text/x-python",
   "name": "python",
   "nbconvert_exporter": "python",
   "pygments_lexer": "ipython3",
   "version": "3.11.4"
  }
 },
 "nbformat": 4,
 "nbformat_minor": 5
}
